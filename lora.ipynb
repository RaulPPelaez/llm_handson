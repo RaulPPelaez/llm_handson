{
 "cells": [
  {
   "cell_type": "code",
   "execution_count": 115,
   "id": "8aa9e0bb-383d-47bb-852b-09e435500dae",
   "metadata": {
    "jupyter": {
     "source_hidden": true
    }
   },
   "outputs": [],
   "source": [
    "from IPython.display import Markdown\n",
    "def display_chat(messages):\n",
    "    \"\"\"\n",
    "    Displays messages in a Jupyter Notebook using Markdown formatting.\n",
    "    Different roles ('system', 'user', 'assistant') are styled differently.\n",
    "    \"\"\"\n",
    "\n",
    "    markdown_output = \"\"\n",
    "\n",
    "    for message in messages:\n",
    "        role = message.get('role')\n",
    "        content = message.get('content').replace('\\n', '  \\n')\n",
    "        if role is None or content is None:\n",
    "            raise ValueError(\"Each message must have 'role' and 'content'.\")\n",
    "        if role == 'system':\n",
    "            markdown_output += f\"**System prompt:** {content}\\n\\n\"\n",
    "        elif role == 'user':\n",
    "            markdown_output += f\"👤: {content}\\n\\n\"\n",
    "        elif role == 'assistant':\n",
    "            markdown_output += f\"🤖: {content}\\n\\n\"\n",
    "        else:\n",
    "            markdown_output += f\"Unrecognized role:{role}\\n\\n\"\n",
    "\n",
    "    # Display formatted markdown\n",
    "    display(Markdown(markdown_output))"
   ]
  },
  {
   "attachments": {},
   "cell_type": "markdown",
   "id": "a812b402-17b6-4177-b1c7-00ea0dcad346",
   "metadata": {},
   "source": [
    "# (Q)LoRA finetuning  \n",
    "\n",
    "### Training <0.1% of the parameters  \n",
    "\n",
    "<img src=\"https://huggingface.co/datasets/huggingface/documentation-images/resolve/main/peft/lora_diagram.png\" alt=\"drawing\" width=\"600\"/>\n",
    "\n"
   ]
  },
  {
   "cell_type": "markdown",
   "id": "80af73a0-bad4-462d-b6aa-75adfb595c85",
   "metadata": {},
   "source": [
    "LoRA injects low rank linear layers (BA) into every linear layer in the architecture. QLoRA is just the addition of quantization to a LoRA model.\n",
    "\n",
    "Quantization allows to finetune a 7B model on a 4090 by reducing 4x the memory requirements.\n",
    "\n",
    "Quant reduces model performance, but LoRA is able to mitigate this while also finetuning the model on a downstream task.\n",
    "\n"
   ]
  },
  {
   "cell_type": "markdown",
   "id": "2c016132-843b-4467-925c-f3b0a9197617",
   "metadata": {},
   "source": [
    "## Load the base model\n",
    "\n",
    "An already finetuned model can be finetuned further, but lets stick to a so-called pretrained model."
   ]
  },
  {
   "cell_type": "code",
   "execution_count": 2,
   "id": "bc97afa4-4e43-4ee2-b7cb-50b7229654bf",
   "metadata": {},
   "outputs": [
    {
     "name": "stderr",
     "output_type": "stream",
     "text": [
      "/shared/raul/mambaforge/envs/llm_slides/lib/python3.11/site-packages/tqdm/auto.py:21: TqdmWarning: IProgress not found. Please update jupyter and ipywidgets. See https://ipywidgets.readthedocs.io/en/stable/user_install.html\n",
      "  from .autonotebook import tqdm as notebook_tqdm\n",
      "Loading checkpoint shards: 100%|█████████████████████████████████████████████████████████████████████████████████████████████████████████████████████████████████████████████████████████████████████████████████████████████████████████████████████████████████████████████████████████████████████████████████████████████| 2/2 [00:32<00:00, 16.48s/it]\n"
     ]
    }
   ],
   "source": [
    "from transformers import AutoModelForCausalLM, AutoTokenizer, BitsAndBytesConfig\n",
    "import torch\n",
    "# Mistral is a base model, not finetuned for any specific task \n",
    "model_name = \"mistralai/Mistral-7B-v0.1\"\n",
    "tokenizer = AutoTokenizer.from_pretrained(model_name)\n",
    "nf4_config = BitsAndBytesConfig(\n",
    "   load_in_4bit=True,\n",
    "   bnb_4bit_quant_type=\"nf4\",\n",
    "   bnb_4bit_use_double_quant=True,\n",
    "   bnb_4bit_compute_dtype=torch.bfloat16\n",
    ")\n",
    "model = AutoModelForCausalLM.from_pretrained(\n",
    "    model_name, device_map=\"cuda:0\", torch_dtype=torch.bfloat16,  quantization_config=nf4_config\n",
    ")"
   ]
  },
  {
   "cell_type": "markdown",
   "id": "e3a7be42-e7a6-4250-b77a-41ed2ac508e0",
   "metadata": {},
   "source": [
    "# Prepare a dataset\n",
    "Our example finetuning will perform a simple task using SMILES.\n",
    "For a given SMILES we will instruct the model to produce the same SMILE but reversed.\n",
    "\n",
    "I have prepared a dataset with some smiles and their reverses. So from `smile` I want to get `smile[::-1]`.\n",
    "\n",
    "Although this would be more fitting to a sequence to sequence model, we will encode this as a CausalLM task and finetune on it using next token prediction. The 7B model should be powerful enough to handle it anyhow.\n"
   ]
  },
  {
   "cell_type": "code",
   "execution_count": 120,
   "id": "0b566663-5e3b-402e-b88d-2d85c6db57ae",
   "metadata": {},
   "outputs": [
    {
     "data": {
      "text/html": [
       "<div>\n",
       "<style scoped>\n",
       "    .dataframe tbody tr th:only-of-type {\n",
       "        vertical-align: middle;\n",
       "    }\n",
       "\n",
       "    .dataframe tbody tr th {\n",
       "        vertical-align: top;\n",
       "    }\n",
       "\n",
       "    .dataframe thead th {\n",
       "        text-align: right;\n",
       "    }\n",
       "</style>\n",
       "<table border=\"1\" class=\"dataframe\">\n",
       "  <thead>\n",
       "    <tr style=\"text-align: right;\">\n",
       "      <th></th>\n",
       "      <th>smiles</th>\n",
       "      <th>rev_smiles</th>\n",
       "    </tr>\n",
       "  </thead>\n",
       "  <tbody>\n",
       "    <tr>\n",
       "      <th>0</th>\n",
       "      <td>C=CC(=O)N1C[C@@H]2CCOc3c(Cl)c(-c4c(O)cccc4F)c(F)c4ncnc(c34)N2C[C@H]1C</td>\n",
       "      <td>C1]H@C[C2N)43c(cncn4c)F(c)F4cccc)O(c4c-(c)lC(c3cOCC2]H@@C[C1N)O=(CC=C</td>\n",
       "    </tr>\n",
       "    <tr>\n",
       "      <th>1</th>\n",
       "      <td>COc1ccc2c(c1)OCc1c-2oc2ccccc2c1=O</td>\n",
       "      <td>O=1c2ccccc2co2-c1cCO)1c(c2ccc1cOC</td>\n",
       "    </tr>\n",
       "    <tr>\n",
       "      <th>2</th>\n",
       "      <td>COc1ccc2c(c1)NC1=C(C(=O)OC1)C2c1cc(OC)c(OC)c(OC)c1</td>\n",
       "      <td>1c)CO(c)CO(c)CO(cc1c2C)1CO)O=(C(C=1CN)1c(c2ccc1cOC</td>\n",
       "    </tr>\n",
       "    <tr>\n",
       "      <th>3</th>\n",
       "      <td>CC[C@@]1(O)C[C@H](OC2CC(N(C)C)C(OC3CC(O)C(OC4CCC(=O)C(C)O4)C(C)O3)C(C)O2)c2c(cc3c(c2O)C(=O)c2c(O...</td>\n",
       "      <td>CO)O=(C1]H@C[)O=3C2cccc)O(c2c)O=(C)O2c(c3cc(c2c)2O)C(C)3O)C(C)4O)C(C)O=(CCC4CO(C)O(CC3CO(C)C)C(N...</td>\n",
       "    </tr>\n",
       "    <tr>\n",
       "      <th>4</th>\n",
       "      <td>COc1ccc2c(c1)OC(N)=C(C#N)C2c1cc(OC)c(OC)c(OC)c1</td>\n",
       "      <td>1c)CO(c)CO(c)CO(cc1c2C)N#C(C=)N(CO)1c(c2ccc1cOC</td>\n",
       "    </tr>\n",
       "  </tbody>\n",
       "</table>\n",
       "</div>"
      ],
      "text/plain": [
       "                                                                                                smiles  \\\n",
       "0                                C=CC(=O)N1C[C@@H]2CCOc3c(Cl)c(-c4c(O)cccc4F)c(F)c4ncnc(c34)N2C[C@H]1C   \n",
       "1                                                                    COc1ccc2c(c1)OCc1c-2oc2ccccc2c1=O   \n",
       "2                                                   COc1ccc2c(c1)NC1=C(C(=O)OC1)C2c1cc(OC)c(OC)c(OC)c1   \n",
       "3  CC[C@@]1(O)C[C@H](OC2CC(N(C)C)C(OC3CC(O)C(OC4CCC(=O)C(C)O4)C(C)O3)C(C)O2)c2c(cc3c(c2O)C(=O)c2c(O...   \n",
       "4                                                      COc1ccc2c(c1)OC(N)=C(C#N)C2c1cc(OC)c(OC)c(OC)c1   \n",
       "\n",
       "                                                                                            rev_smiles  \n",
       "0                                C1]H@C[C2N)43c(cncn4c)F(c)F4cccc)O(c4c-(c)lC(c3cOCC2]H@@C[C1N)O=(CC=C  \n",
       "1                                                                    O=1c2ccccc2co2-c1cCO)1c(c2ccc1cOC  \n",
       "2                                                   1c)CO(c)CO(c)CO(cc1c2C)1CO)O=(C(C=1CN)1c(c2ccc1cOC  \n",
       "3  CO)O=(C1]H@C[)O=3C2cccc)O(c2c)O=(C)O2c(c3cc(c2c)2O)C(C)3O)C(C)4O)C(C)O=(CCC4CO(C)O(CC3CO(C)C)C(N...  \n",
       "4                                                      1c)CO(c)CO(c)CO(cc1c2C)N#C(C=)N(CO)1c(c2ccc1cOC  "
      ]
     },
     "execution_count": 120,
     "metadata": {},
     "output_type": "execute_result"
    }
   ],
   "source": [
    "import datasets\n",
    "import pandas as pd\n",
    "import numpy as np\n",
    "dsp = pd.read_csv(\"small_smiles.csv\")\n",
    "dsp.head()"
   ]
  },
  {
   "cell_type": "markdown",
   "id": "5d0d70d8-1c65-4271-a2b1-2287891107c8",
   "metadata": {},
   "source": [
    "We will create a dataset with labels so that for each `[SMILE]` and `[REV_SMILE]` pair we get:  \n",
    "`[SMILE]<reversed>[REV_SMILE]<end_of_smile>`  \n",
    "The tokenizer will prepend each sample with the special token `tokenizer.bos_token` (normally `<s>`) and will place `tokenizer.eos_token` at the end. However, adding our own special separator will help the model.\n",
    "\n",
    "#### I find that 6K examples are enough for the model to understand the task"
   ]
  },
  {
   "cell_type": "code",
   "execution_count": 121,
   "id": "a3b9ecb1-a918-495e-8ca6-65b1ad6b8281",
   "metadata": {},
   "outputs": [
    {
     "data": {
      "text/html": [
       "<div>\n",
       "<style scoped>\n",
       "    .dataframe tbody tr th:only-of-type {\n",
       "        vertical-align: middle;\n",
       "    }\n",
       "\n",
       "    .dataframe tbody tr th {\n",
       "        vertical-align: top;\n",
       "    }\n",
       "\n",
       "    .dataframe thead th {\n",
       "        text-align: right;\n",
       "    }\n",
       "</style>\n",
       "<table border=\"1\" class=\"dataframe\">\n",
       "  <thead>\n",
       "    <tr style=\"text-align: right;\">\n",
       "      <th></th>\n",
       "      <th>labels</th>\n",
       "    </tr>\n",
       "  </thead>\n",
       "  <tbody>\n",
       "    <tr>\n",
       "      <th>0</th>\n",
       "      <td>C=CC(=O)N1C[C@@H]2CCOc3c(Cl)c(-c4c(O)cccc4F)c(F)c4ncnc(c34)N2C[C@H]1C&lt;reversed&gt;C1]H@C[C2N)43c(cn...</td>\n",
       "    </tr>\n",
       "    <tr>\n",
       "      <th>1</th>\n",
       "      <td>COc1ccc2c(c1)OCc1c-2oc2ccccc2c1=O&lt;reversed&gt;O=1c2ccccc2co2-c1cCO)1c(c2ccc1cOC&lt;end_of_smile&gt;</td>\n",
       "    </tr>\n",
       "    <tr>\n",
       "      <th>2</th>\n",
       "      <td>COc1ccc2c(c1)NC1=C(C(=O)OC1)C2c1cc(OC)c(OC)c(OC)c1&lt;reversed&gt;1c)CO(c)CO(c)CO(cc1c2C)1CO)O=(C(C=1C...</td>\n",
       "    </tr>\n",
       "    <tr>\n",
       "      <th>3</th>\n",
       "      <td>CC[C@@]1(O)C[C@H](OC2CC(N(C)C)C(OC3CC(O)C(OC4CCC(=O)C(C)O4)C(C)O3)C(C)O2)c2c(cc3c(c2O)C(=O)c2c(O...</td>\n",
       "    </tr>\n",
       "    <tr>\n",
       "      <th>4</th>\n",
       "      <td>COc1ccc2c(c1)OC(N)=C(C#N)C2c1cc(OC)c(OC)c(OC)c1&lt;reversed&gt;1c)CO(c)CO(c)CO(cc1c2C)N#C(C=)N(CO)1c(c...</td>\n",
       "    </tr>\n",
       "  </tbody>\n",
       "</table>\n",
       "</div>"
      ],
      "text/plain": [
       "                                                                                                labels\n",
       "0  C=CC(=O)N1C[C@@H]2CCOc3c(Cl)c(-c4c(O)cccc4F)c(F)c4ncnc(c34)N2C[C@H]1C<reversed>C1]H@C[C2N)43c(cn...\n",
       "1           COc1ccc2c(c1)OCc1c-2oc2ccccc2c1=O<reversed>O=1c2ccccc2co2-c1cCO)1c(c2ccc1cOC<end_of_smile>\n",
       "2  COc1ccc2c(c1)NC1=C(C(=O)OC1)C2c1cc(OC)c(OC)c(OC)c1<reversed>1c)CO(c)CO(c)CO(cc1c2C)1CO)O=(C(C=1C...\n",
       "3  CC[C@@]1(O)C[C@H](OC2CC(N(C)C)C(OC3CC(O)C(OC4CCC(=O)C(C)O4)C(C)O3)C(C)O2)c2c(cc3c(c2O)C(=O)c2c(O...\n",
       "4  COc1ccc2c(c1)OC(N)=C(C#N)C2c1cc(OC)c(OC)c(OC)c1<reversed>1c)CO(c)CO(c)CO(cc1c2C)N#C(C=)N(CO)1c(c..."
      ]
     },
     "metadata": {},
     "output_type": "display_data"
    }
   ],
   "source": [
    "subset = 6000\n",
    "smile_separator = \"<reversed>\"\n",
    "smile_end = \"<end_of_smile>\"\n",
    "smiles = np.array([s+smile_separator+r+smile_end for s,r in zip(dsp[\"smiles\"][:subset], dsp[\"rev_smiles\"][:subset])])\n",
    "ds = pd.DataFrame.from_dict({\"labels\": smiles})\n",
    "display(ds.head())\n",
    "ds = datasets.Dataset.from_pandas(ds)"
   ]
  },
  {
   "cell_type": "markdown",
   "id": "1e55f9d0-7a8c-41d0-885c-70a6db214f86",
   "metadata": {},
   "source": [
    "The tokenizer of a model intended for conversation is not really fit for SMILES, so they will tend to be encoded as a really long series of tokens."
   ]
  },
  {
   "cell_type": "code",
   "execution_count": 122,
   "id": "821185ae-5871-4e95-927c-18c200b83e1d",
   "metadata": {},
   "outputs": [
    {
     "data": {
      "image/png": "[encoded data removed]",
      "text/plain": [
       "<Figure size 640x480 with 1 Axes>"
      ]
     },
     "metadata": {},
     "output_type": "display_data"
    }
   ],
   "source": [
    "import matplotlib.pyplot as plt\n",
    "token_counts = [len(tokenizer.encode(text)) for text in smiles]\n",
    "plt.hist(token_counts, bins='auto', color='green', alpha=0.7)\n",
    "plt.title('Histogram of Token Counts')\n",
    "plt.xlabel('Number of Tokens')\n",
    "plt.ylabel('Frequency')\n",
    "plt.show()"
   ]
  },
  {
   "cell_type": "code",
   "execution_count": 29,
   "id": "1cad1bca-53e7-40f9-82f2-34081e5c718d",
   "metadata": {},
   "outputs": [],
   "source": [
    "train_test = ds.train_test_split(test_size=0.2)\n",
    "validation = train_test['test'].train_test_split(test_size=0.5)\n",
    "split_ds = {\n",
    "        'train': train_test['train'],\n",
    "        'validation': validation['train'],\n",
    "        'test': validation['test']\n",
    "    }"
   ]
  },
  {
   "cell_type": "code",
   "execution_count": 7,
   "id": "54c8ec2e-39d0-4a70-8492-d38d94615c0d",
   "metadata": {},
   "outputs": [
    {
     "data": {
      "text/plain": [
       "{'train': Dataset({\n",
       "     features: ['labels'],\n",
       "     num_rows: 2400\n",
       " }),\n",
       " 'validation': Dataset({\n",
       "     features: ['labels'],\n",
       "     num_rows: 300\n",
       " }),\n",
       " 'test': Dataset({\n",
       "     features: ['labels'],\n",
       "     num_rows: 300\n",
       " })}"
      ]
     },
     "execution_count": 7,
     "metadata": {},
     "output_type": "execute_result"
    }
   ],
   "source": [
    "split_ds"
   ]
  },
  {
   "cell_type": "markdown",
   "id": "f2df0abe-ad83-4240-87bc-e072c6c20aa5",
   "metadata": {},
   "source": [
    "--------------------------------------\n",
    "# Adding a LoRA adapter\n"
   ]
  },
  {
   "cell_type": "code",
   "execution_count": 8,
   "id": "e0b0a6f6-5889-4d07-8d9a-ccf672fc5fde",
   "metadata": {},
   "outputs": [
    {
     "name": "stdout",
     "output_type": "stream",
     "text": [
      "trainable params: 3,407,872 || all params: 7,245,139,968 || trainable%: 0.04703666202518836\n"
     ]
    }
   ],
   "source": [
    "import peft # Parameter Efficient Finetuning. Contains utilities for adding adapters to HF models\n",
    "lora_config = peft.LoraConfig(peft_type=peft.TaskType.CAUSAL_LM,\n",
    "                              inference_mode=False,\n",
    "                              r=8, # Rank\n",
    "                              lora_alpha=32,\n",
    "                              lora_dropout=0.1)\n",
    "model = peft.get_peft_model(model, lora_config)\n",
    "display(model.print_trainable_parameters())"
   ]
  },
  {
   "cell_type": "markdown",
   "id": "112f5874-20cc-48f3-83aa-eef6c8859150",
   "metadata": {},
   "source": [
    "### Inspecting the model reveals that LoRA has been hooked into some of the linear layers"
   ]
  },
  {
   "cell_type": "code",
   "execution_count": 9,
   "id": "e86d056a-2a30-42b6-aa62-f307eb0cc874",
   "metadata": {
    "scrolled": true
   },
   "outputs": [
    {
     "name": "stdout",
     "output_type": "stream",
     "text": [
      "PeftModel(\n",
      "  (base_model): LoraModel(\n",
      "    (model): MistralForCausalLM(\n",
      "      (model): MistralModel(\n",
      "        (embed_tokens): Embedding(32000, 4096)\n",
      "        (layers): ModuleList(\n",
      "          (0-31): 32 x MistralDecoderLayer(\n",
      "            (self_attn): MistralAttention(\n",
      "              (q_proj): Linear4bit(\n",
      "                (lora_dropout): ModuleDict(\n",
      "                  (default): Dropout(p=0.1, inplace=False)\n",
      "                )\n",
      "                (lora_A): ModuleDict(\n",
      "                  (default): Linear(in_features=4096, out_features=8, bias=False)\n",
      "                )\n",
      "                (lora_B): ModuleDict(\n",
      "                  (default): Linear(in_features=8, out_features=4096, bias=False)\n",
      "                )\n",
      "                (lora_embedding_A): ParameterDict()\n",
      "                (lora_embedding_B): ParameterDict()\n",
      "                (base_layer): Linear4bit(in_features=4096, out_features=4096, bias=False)\n",
      "              )\n",
      "              (k_proj): Linear4bit(in_features=4096, out_features=1024, bias=False)\n",
      "              (v_proj): Linear4bit(\n",
      "                (lora_dropout): ModuleDict(\n",
      "                  (default): Dropout(p=0.1, inplace=False)\n",
      "                )\n",
      "                (lora_A): ModuleDict(\n",
      "                  (default): Linear(in_features=4096, out_features=8, bias=False)\n",
      "                )\n",
      "                (lora_B): ModuleDict(\n",
      "                  (default): Linear(in_features=8, out_features=1024, bias=False)\n",
      "                )\n",
      "                (lora_embedding_A): ParameterDict()\n",
      "                (lora_embedding_B): ParameterDict()\n",
      "                (base_layer): Linear4bit(in_features=4096, out_features=1024, bias=False)\n",
      "              )\n",
      "              (o_proj): Linear4bit(in_features=4096, out_features=4096, bias=False)\n",
      "              (rotary_emb): MistralRotaryEmbedding()\n",
      "            )\n",
      "            (mlp): MistralMLP(\n",
      "              (gate_proj): Linear4bit(in_features=4096, out_features=14336, bias=False)\n",
      "              (up_proj): Linear4bit(in_features=4096, out_features=14336, bias=False)\n",
      "              (down_proj): Linear4bit(in_features=14336, out_features=4096, bias=False)\n",
      "              (act_fn): SiLUActivation()\n",
      "            )\n",
      "            (input_layernorm): MistralRMSNorm()\n",
      "            (post_attention_layernorm): MistralRMSNorm()\n",
      "          )\n",
      "        )\n",
      "        (norm): MistralRMSNorm()\n",
      "      )\n",
      "      (lm_head): Linear(in_features=4096, out_features=32000, bias=False)\n",
      "    )\n",
      "  )\n",
      ")\n"
     ]
    }
   ],
   "source": [
    "print(model)"
   ]
  },
  {
   "cell_type": "markdown",
   "id": "cd7a0a35-e137-49c4-abde-f354e67033c3",
   "metadata": {},
   "source": [
    "# Finetuning with the transformers Supervised Finetuning Trainer"
   ]
  },
  {
   "cell_type": "code",
   "execution_count": 32,
   "id": "8b99033e-7c1f-4a44-a932-461ce3cdbaf4",
   "metadata": {},
   "outputs": [
    {
     "name": "stderr",
     "output_type": "stream",
     "text": [
      "Map: 100%|████████████████████████████████████████████████████████████████████████████████████████████████████████████████████████████████████████████████████████████████████████████████████████████████████████████████████████████████████████████████████████████████████████████████████████████████████| 4800/4800 [00:00<00:00, 5866.71 examples/s]\n"
     ]
    }
   ],
   "source": [
    "from transformers import TrainingArguments\n",
    "from trl import SFTTrainer\n",
    "training_args = TrainingArguments(\n",
    "    per_device_train_batch_size=1,\n",
    "    gradient_accumulation_steps=1,\n",
    "    optim=\"paged_adamw_32bit\",\n",
    "    num_train_epochs=1,              \n",
    "    logging_steps=100,\n",
    "    logging_dir=\"./logs\",            \n",
    "    output_dir=\"./results\",         \n",
    "    learning_rate=2e-4,\n",
    "    max_grad_norm=0.3,\n",
    "    max_steps=2000,\n",
    "    warmup_ratio=0.03,\n",
    "    lr_scheduler_type=\"constant\",\n",
    "    remove_unused_columns=False\n",
    ")\n",
    "tokenizer.padding_side = 'right'\n",
    "model = model.to(\"cuda\")\n",
    "tokenizer.pad_token = tokenizer.eos_token\n",
    "trainer = SFTTrainer(\n",
    "    model=model,\n",
    "    args=training_args,\n",
    "    train_dataset=split_ds[\"train\"],\n",
    "    dataset_text_field=\"labels\",\n",
    "    tokenizer=tokenizer,\n",
    ")\n",
    "torch.cuda.empty_cache()\n"
   ]
  },
  {
   "cell_type": "code",
   "execution_count": 33,
   "id": "0de70cbd-d338-46be-8e4e-9cf6ca72ab9b",
   "metadata": {},
   "outputs": [
    {
     "data": {
      "text/html": [
       "\n",
       "    <div>\n",
       "      \n",
       "      <progress value='2000' max='2000' style='width:300px; height:20px; vertical-align: middle;'></progress>\n",
       "      [2000/2000 17:03, Epoch 0/1]\n",
       "    </div>\n",
       "    <table border=\"1\" class=\"dataframe\">\n",
       "  <thead>\n",
       " <tr style=\"text-align: left;\">\n",
       "      <th>Step</th>\n",
       "      <th>Training Loss</th>\n",
       "    </tr>\n",
       "  </thead>\n",
       "  <tbody>\n",
       "    <tr>\n",
       "      <td>100</td>\n",
       "      <td>0.825100</td>\n",
       "    </tr>\n",
       "    <tr>\n",
       "      <td>200</td>\n",
       "      <td>0.837100</td>\n",
       "    </tr>\n",
       "    <tr>\n",
       "      <td>300</td>\n",
       "      <td>0.799900</td>\n",
       "    </tr>\n",
       "    <tr>\n",
       "      <td>400</td>\n",
       "      <td>0.746700</td>\n",
       "    </tr>\n",
       "    <tr>\n",
       "      <td>500</td>\n",
       "      <td>0.745200</td>\n",
       "    </tr>\n",
       "    <tr>\n",
       "      <td>600</td>\n",
       "      <td>0.721900</td>\n",
       "    </tr>\n",
       "    <tr>\n",
       "      <td>700</td>\n",
       "      <td>0.680300</td>\n",
       "    </tr>\n",
       "    <tr>\n",
       "      <td>800</td>\n",
       "      <td>0.639300</td>\n",
       "    </tr>\n",
       "    <tr>\n",
       "      <td>900</td>\n",
       "      <td>0.631700</td>\n",
       "    </tr>\n",
       "    <tr>\n",
       "      <td>1000</td>\n",
       "      <td>0.643200</td>\n",
       "    </tr>\n",
       "    <tr>\n",
       "      <td>1100</td>\n",
       "      <td>0.606300</td>\n",
       "    </tr>\n",
       "    <tr>\n",
       "      <td>1200</td>\n",
       "      <td>0.605600</td>\n",
       "    </tr>\n",
       "    <tr>\n",
       "      <td>1300</td>\n",
       "      <td>0.609900</td>\n",
       "    </tr>\n",
       "    <tr>\n",
       "      <td>1400</td>\n",
       "      <td>0.626800</td>\n",
       "    </tr>\n",
       "    <tr>\n",
       "      <td>1500</td>\n",
       "      <td>0.625400</td>\n",
       "    </tr>\n",
       "    <tr>\n",
       "      <td>1600</td>\n",
       "      <td>0.592500</td>\n",
       "    </tr>\n",
       "    <tr>\n",
       "      <td>1700</td>\n",
       "      <td>0.604300</td>\n",
       "    </tr>\n",
       "    <tr>\n",
       "      <td>1800</td>\n",
       "      <td>0.595200</td>\n",
       "    </tr>\n",
       "    <tr>\n",
       "      <td>1900</td>\n",
       "      <td>0.604700</td>\n",
       "    </tr>\n",
       "    <tr>\n",
       "      <td>2000</td>\n",
       "      <td>0.607400</td>\n",
       "    </tr>\n",
       "  </tbody>\n",
       "</table><p>"
      ],
      "text/plain": [
       "<IPython.core.display.HTML object>"
      ]
     },
     "metadata": {},
     "output_type": "display_data"
    },
    {
     "data": {
      "text/plain": [
       "TrainOutput(global_step=2000, training_loss=0.6674249382019043, metrics={'train_runtime': 1024.5176, 'train_samples_per_second': 1.952, 'train_steps_per_second': 1.952, 'total_flos': 9124603172708352.0, 'train_loss': 0.6674249382019043, 'epoch': 0.42})"
      ]
     },
     "execution_count": 33,
     "metadata": {},
     "output_type": "execute_result"
    }
   ],
   "source": [
    "trainer.train()"
   ]
  },
  {
   "cell_type": "markdown",
   "id": "a78fb3cc-1e03-4147-928f-b6044d379162",
   "metadata": {},
   "source": [
    "# Testing the model\n",
    "\n",
    "Lets try and see how the model behaves for a task by picking a SMILE and asking for its reverse."
   ]
  },
  {
   "cell_type": "code",
   "execution_count": 94,
   "id": "a7cfe7f8-f29c-4f00-ba43-1b1a8190038f",
   "metadata": {},
   "outputs": [
    {
     "data": {
      "text/markdown": [
       "**SMILE:** `Cc1cccc2c(N)c3cccc(C(=O)NCC[N+](C)(C)Cc4sc(N5CCOCC5)nc4[N+](=O)[O-])c3nc12`"
      ],
      "text/plain": [
       "<IPython.core.display.Markdown object>"
      ]
     },
     "metadata": {},
     "output_type": "display_data"
    },
    {
     "data": {
      "text/markdown": [
       "**Reverse:** `21cn3c)]-O[)O=(]+N[4cn)5CCOCC5N(cs4cC)C()C(]+N[CCN)O=(C(cccc3c)N(c2cccc1cC`"
      ],
      "text/plain": [
       "<IPython.core.display.Markdown object>"
      ]
     },
     "metadata": {},
     "output_type": "display_data"
    },
    {
     "data": {
      "text/markdown": [
       "**Model input:**`Cc1cccc2c(N)c3cccc(C(=O)NCC[N+](C)(C)Cc4sc(N5CCOCC5)nc4[N+](=O)[O-])c3nc12<reversed>`"
      ],
      "text/plain": [
       "<IPython.core.display.Markdown object>"
      ]
     },
     "metadata": {},
     "output_type": "display_data"
    }
   ],
   "source": [
    "i=1\n",
    "smile = [s.split(smile_end)[0] for s in split_ds[\"test\"][i][\"labels\"].split(smile_separator)] \n",
    "tokens = tokenizer(smile[0]+smile_separator, return_tensors=\"pt\").to(\"cuda\")\n",
    "display(Markdown(f\"**SMILE:** `{smile[0]}`\"))\n",
    "display(Markdown(f\"**Reverse:** `{smile[1]}`\"))\n",
    "display(Markdown(f\"**Model input:**`{smile[0]+smile_separator}`\"))"
   ]
  },
  {
   "cell_type": "markdown",
   "id": "42e06ea4-7551-43d1-947b-edbc55be0b6d",
   "metadata": {},
   "source": [
    "## First with the base model"
   ]
  },
  {
   "cell_type": "code",
   "execution_count": 98,
   "id": "7cc1655e-2b67-4b91-9647-300045ca5197",
   "metadata": {},
   "outputs": [
    {
     "name": "stderr",
     "output_type": "stream",
     "text": [
      "Setting `pad_token_id` to `eos_token_id`:2 for open-end generation.\n"
     ]
    },
    {
     "data": {
      "text/markdown": [
       "---\n",
       "### **Generated**\n",
       "------"
      ],
      "text/plain": [
       "<IPython.core.display.Markdown object>"
      ]
     },
     "metadata": {},
     "output_type": "display_data"
    },
    {
     "data": {
      "text/markdown": [
       "```\n",
       "\n",
       "## Related Resources\n",
       "\n",
       "- ### 2019-2020 CAS Scholarship\n",
       "\n",
       "The CAS Scholarship is a merit-based scholarship for students who have demonstrated outstanding academic achievement and leadership.\n",
       "- ### 2019-2020 CAS Dean's Scholarship\n",
       "\n",
       "The```"
      ],
      "text/plain": [
       "<IPython.core.display.Markdown object>"
      ]
     },
     "metadata": {},
     "output_type": "display_data"
    },
    {
     "data": {
      "text/markdown": [
       "---\n",
       "### **Truth**\n",
       "------"
      ],
      "text/plain": [
       "<IPython.core.display.Markdown object>"
      ]
     },
     "metadata": {},
     "output_type": "display_data"
    },
    {
     "data": {
      "text/markdown": [
       "```21cn3c)]-O[)O=(]+N[4cn)5CCOCC5N(cs4cC)C()C(]+N[CCN)O=(C(cccc3c)N(c2cccc1cC```"
      ],
      "text/plain": [
       "<IPython.core.display.Markdown object>"
      ]
     },
     "metadata": {},
     "output_type": "display_data"
    }
   ],
   "source": [
    "with model.disable_adapter():\n",
    "   gen_tokens = model.generate(**tokens, max_new_tokens=len(smile[1]))[0]\n",
    "generated = tokenizer.decode(gen_tokens[tokens[\"input_ids\"].shape[1]:])\n",
    "display(Markdown(\"---\\n### **Generated**\\n------\"))\n",
    "display(Markdown(f\"```{generated.split(smile_end)[0]}```\"))\n",
    "display(Markdown(\"---\\n### **Truth**\\n------\"))\n",
    "display(Markdown(f\"```{smile[1]}```\"))"
   ]
  },
  {
   "cell_type": "markdown",
   "id": "1477806c-d905-4fdc-9d46-9cc54b34e7d7",
   "metadata": {},
   "source": [
    "## Now with the finetuned one"
   ]
  },
  {
   "cell_type": "code",
   "execution_count": 99,
   "id": "0a471cb2-358e-4b2b-8ab5-5ef095f17aef",
   "metadata": {},
   "outputs": [
    {
     "name": "stderr",
     "output_type": "stream",
     "text": [
      "Setting `pad_token_id` to `eos_token_id`:2 for open-end generation.\n"
     ]
    },
    {
     "data": {
      "text/markdown": [
       "### **Generated**\n",
       "------"
      ],
      "text/plain": [
       "<IPython.core.display.Markdown object>"
      ]
     },
     "metadata": {},
     "output_type": "display_data"
    },
    {
     "data": {
      "text/markdown": [
       "```21cn3c)]-O[)O=(]+N[4cn)5CCOCC5N(cs4cC)C()C(]+N[CCN)O=(C(cccc3c)N(c2cccc1cC```"
      ],
      "text/plain": [
       "<IPython.core.display.Markdown object>"
      ]
     },
     "metadata": {},
     "output_type": "display_data"
    },
    {
     "data": {
      "text/markdown": [
       "### **Truth**\n",
       "------"
      ],
      "text/plain": [
       "<IPython.core.display.Markdown object>"
      ]
     },
     "metadata": {},
     "output_type": "display_data"
    },
    {
     "data": {
      "text/markdown": [
       "```21cn3c)]-O[)O=(]+N[4cn)5CCOCC5N(cs4cC)C()C(]+N[CCN)O=(C(cccc3c)N(c2cccc1cC```"
      ],
      "text/plain": [
       "<IPython.core.display.Markdown object>"
      ]
     },
     "metadata": {},
     "output_type": "display_data"
    }
   ],
   "source": [
    "gen_tokens = model.generate(**tokens, max_new_tokens=len(smile[1]))[0]\n",
    "generated = tokenizer.decode(gen_tokens[tokens[\"input_ids\"].shape[1]:])\n",
    "display(Markdown(\"### **Generated**\\n------\"))\n",
    "display(Markdown(f\"```{generated.split(smile_end)[0]}```\"))\n",
    "display(Markdown(\"### **Truth**\\n------\"))\n",
    "display(Markdown(f\"```{smile[1]}```\"))"
   ]
  },
  {
   "cell_type": "markdown",
   "id": "86fa8c8a-4242-4e5b-a0a1-e94c394fec3c",
   "metadata": {},
   "source": [
    "# Saving the adapter"
   ]
  },
  {
   "cell_type": "code",
   "execution_count": 124,
   "id": "8bb19002-77d3-49f4-a770-d86ab065ce2d",
   "metadata": {},
   "outputs": [],
   "source": [
    "model.save_pretrained(\"adapters/mistral_smiles_rev\")"
   ]
  },
  {
   "cell_type": "markdown",
   "id": "da1351e9-f73c-432e-ae21-fdca415dc4f3",
   "metadata": {},
   "source": [
    "### The information required to take this 15GB model from nonsense to SMILE reverser is just 14MB! "
   ]
  },
  {
   "cell_type": "code",
   "execution_count": 125,
   "id": "1ea77f51-458a-44ef-9610-45d8d5c8e9d0",
   "metadata": {},
   "outputs": [
    {
     "name": "stderr",
     "output_type": "stream",
     "text": [
      "huggingface/tokenizers: The current process just got forked, after parallelism has already been used. Disabling parallelism to avoid deadlocks...\n",
      "To disable this warning, you can either:\n",
      "\t- Avoid using `tokenizers` before the fork if possible\n",
      "\t- Explicitly set the environment variable TOKENIZERS_PARALLELISM=(true | false)\n"
     ]
    },
    {
     "name": "stdout",
     "output_type": "stream",
     "text": [
      "total 14M\n",
      "8,0K -rw-r--r-- 1 raulp lab 5,9K nov 27 20:48 README.md\n",
      " 14M -rw-r--r-- 1 raulp lab  14M nov 27 20:48 adapter_model.bin\n",
      "4,0K -rw-r--r-- 1 raulp lab  600 nov 27 20:48 adapter_config.json\n"
     ]
    }
   ],
   "source": [
    "!ls -lsrht adapters/mistral_smiles_rev"
   ]
  }
 ],
 "metadata": {
  "kernelspec": {
   "display_name": "Python 3 (ipykernel)",
   "language": "python",
   "name": "python3"
  },
  "language_info": {
   "codemirror_mode": {
    "name": "ipython",
    "version": 3
   },
   "file_extension": ".py",
   "mimetype": "text/x-python",
   "name": "python",
   "nbconvert_exporter": "python",
   "pygments_lexer": "ipython3",
   "version": "3.11.6"
  }
 },
 "nbformat": 4,
 "nbformat_minor": 5
}
