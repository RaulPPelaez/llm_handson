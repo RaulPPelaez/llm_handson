{
 "cells": [
  {
   "cell_type": "markdown",
   "id": "c4791111-35db-4bf7-8eae-3f0623f4c01a",
   "metadata": {},
   "source": [
    "# Retrieval Augmented Generation\n",
    "\n",
    "This is just a sneak peek for a possible future workshop.\n",
    "\n",
    "Using LangChain and Llama Index we will build a vector database from a pdf file. \n",
    "This, paired with an LLM from huggingface allows to \"chat\" with a pdf.\n",
    "\n",
    "LangChain is a library with a very high level of abstraction. This allows to construct a \"talk with pdf\" LLM in just a few lines, with the disadvantange that one looses a lot of control over the process."
   ]
  },
  {
   "cell_type": "code",
   "execution_count": 1,
   "id": "8ab84bc0-6cc2-4b53-96e8-e6b9a7d5afad",
   "metadata": {},
   "outputs": [
    {
     "name": "stderr",
     "output_type": "stream",
     "text": [
      "/shared/raul/mambaforge/envs/llm_slides/lib/python3.11/site-packages/tqdm/auto.py:21: TqdmWarning: IProgress not found. Please update jupyter and ipywidgets. See https://ipywidgets.readthedocs.io/en/stable/user_install.html\n",
      "  from .autonotebook import tqdm as notebook_tqdm\n"
     ]
    }
   ],
   "source": [
    "from langchain.embeddings.huggingface import HuggingFaceEmbeddings\n",
    "from llama_index.embeddings import LangchainEmbedding\n",
    "embed_model = LangchainEmbedding(\n",
    "  HuggingFaceEmbeddings(model_name=\"sentence-transformers/all-mpnet-base-v2\")\n",
    ")"
   ]
  },
  {
   "cell_type": "code",
   "execution_count": 2,
   "id": "848e9dab-a18e-4226-969f-e2bc212a6dd7",
   "metadata": {},
   "outputs": [
    {
     "name": "stderr",
     "output_type": "stream",
     "text": [
      "Loading checkpoint shards: 100%|████████████████████████| 3/3 [00:12<00:00,  4.00s/it]\n"
     ]
    }
   ],
   "source": [
    "import torch\n",
    "system_prompt = \"You are helpful assistant.\"\n",
    "query_wrapper_prompt = \"<|USER|>{query_str}<|ASSISTANT|>\"\n",
    "from llama_index.llms import HuggingFaceLLM\n",
    "llm = HuggingFaceLLM(\n",
    "    context_window=2048,\n",
    "    max_new_tokens=256,\n",
    "    generate_kwargs={\"temperature\": 0.1, \"do_sample\": True},\n",
    "    system_prompt=system_prompt,\n",
    "    query_wrapper_prompt=query_wrapper_prompt,\n",
    "    tokenizer_name=\"monology/openinstruct-mistral-7b\",\n",
    "    model_name=\"monology/openinstruct-mistral-7b\",\n",
    "    device_map=\"cuda:0\",\n",
    "    tokenizer_kwargs={\"max_length\": 2048},\n",
    "    model_kwargs={\"torch_dtype\": torch.bfloat16}\n",
    "\n",
    ")"
   ]
  },
  {
   "cell_type": "code",
   "execution_count": 3,
   "id": "a8dc897a-b4fe-4952-a5a8-99bb8c65c715",
   "metadata": {},
   "outputs": [],
   "source": [
    "from llama_index import  ServiceContext\n",
    "service_context = ServiceContext.from_defaults(\n",
    "    chunk_size=1024,\n",
    "    llm=llm,\n",
    "    embed_model=embed_model\n",
    ")"
   ]
  },
  {
   "cell_type": "code",
   "execution_count": 4,
   "id": "dbef2b85-02d5-4d8a-bef8-614c4a79200f",
   "metadata": {},
   "outputs": [],
   "source": [
    "from llama_index import VectorStoreIndex, SimpleDirectoryReader\n",
    "documents = SimpleDirectoryReader(\"data\").load_data()\n",
    "index = VectorStoreIndex.from_documents(documents, service_context=service_context)"
   ]
  },
  {
   "cell_type": "code",
   "execution_count": 5,
   "id": "22ced1ca-f3bd-4aa5-8a69-72513a11c196",
   "metadata": {},
   "outputs": [
    {
     "name": "stderr",
     "output_type": "stream",
     "text": [
      "Token indices sequence length is longer than the specified maximum sequence length for this model (2065 > 2048). Running this sequence through the model will result in indexing errors\n",
      "Setting `pad_token_id` to `eos_token_id`:2 for open-end generation.\n",
      "Setting `pad_token_id` to `eos_token_id`:2 for open-end generation.\n"
     ]
    },
    {
     "name": "stdout",
     "output_type": "stream",
     "text": [
      "TensorNet is a message-passing model that uses Cartesian tensors and their irreducible representations.\n"
     ]
    }
   ],
   "source": [
    "query_engine = index.as_query_engine()\n",
    "response = query_engine.query(\"What kind of model is TensorNet?\")\n",
    "print(response)"
   ]
  },
  {
   "cell_type": "code",
   "execution_count": 6,
   "id": "543b8215-12f0-487c-b3ed-cec49aeafeae",
   "metadata": {},
   "outputs": [
    {
     "name": "stderr",
     "output_type": "stream",
     "text": [
      "Setting `pad_token_id` to `eos_token_id`:2 for open-end generation.\n"
     ]
    },
    {
     "name": "stdout",
     "output_type": "stream",
     "text": [
      "The TensorNet model is composed of an initial embedding module, the concatenation of several interaction layers, and the output module.\n"
     ]
    }
   ],
   "source": [
    "response = query_engine.query(\"What layers is TensorNet composed of?\")\n",
    "print(response)"
   ]
  },
  {
   "cell_type": "code",
   "execution_count": 7,
   "id": "6a502e8b-c11c-4b83-ae64-2fe91b12ff1c",
   "metadata": {},
   "outputs": [
    {
     "name": "stderr",
     "output_type": "stream",
     "text": [
      "Setting `pad_token_id` to `eos_token_id`:2 for open-end generation.\n",
      "Setting `pad_token_id` to `eos_token_id`:2 for open-end generation.\n"
     ]
    },
    {
     "name": "stdout",
     "output_type": "stream",
     "text": [
      "The energy accuracy of TensorNet in the QM9 dataset is 3.9 meV, which is state-of-the-art.\n"
     ]
    }
   ],
   "source": [
    "response = query_engine.query(\"What is the energy accuracy of TensorNet in the QM9 dataset?\")\n",
    "print(response)"
   ]
  }
 ],
 "metadata": {
  "kernelspec": {
   "display_name": "Python 3 (ipykernel)",
   "language": "python",
   "name": "python3"
  },
  "language_info": {
   "codemirror_mode": {
    "name": "ipython",
    "version": 3
   },
   "file_extension": ".py",
   "mimetype": "text/x-python",
   "name": "python",
   "nbconvert_exporter": "python",
   "pygments_lexer": "ipython3",
   "version": "3.11.6"
  }
 },
 "nbformat": 4,
 "nbformat_minor": 5
}
